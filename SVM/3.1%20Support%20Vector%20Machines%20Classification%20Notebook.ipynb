{
 "cells": [
  {
   "cell_type": "markdown",
   "id": "eb324dd8",
   "metadata": {},
   "source": [
    "# Categorical Support Vector Classifier"
   ]
  },
  {
   "cell_type": "markdown",
   "id": "c4b3b7b2",
   "metadata": {},
   "source": [
    "## Imports"
   ]
  },
  {
   "cell_type": "code",
   "execution_count": 42,
   "id": "c9b95795",
   "metadata": {},
   "outputs": [],
   "source": [
    "import pandas as pd \n",
    "import seaborn as sns\n",
    "from sklearn.preprocessing import MinMaxScaler \n",
    "from sklearn.model_selection import train_test_split \n",
    "from sklearn.preprocessing import LabelEncoder, OrdinalEncoder \n",
    "from sklearn import svm, datasets\n",
    "import matplotlib.pyplot as plt\n",
    "from sklearn.metrics import confusion_matrix, accuracy_score, precision_score, recall_score, \\\n",
    "f1_score, classification_report,ConfusionMatrixDisplay\n",
    "from sklearn.model_selection import GridSearchCV \n",
    "from sklearn.metrics import classification_report "
   ]
  },
  {
   "cell_type": "markdown",
   "id": "373fd8f8",
   "metadata": {},
   "source": [
    "## Loading the database"
   ]
  },
  {
   "cell_type": "markdown",
   "id": "6c3d4acd",
   "metadata": {},
   "source": [
    "#### Read the csv file and study the database"
   ]
  },
  {
   "cell_type": "code",
   "execution_count": 120,
   "id": "243e751f",
   "metadata": {},
   "outputs": [
    {
     "name": "stdout",
     "output_type": "stream",
     "text": [
      "<class 'pandas.core.frame.DataFrame'>\n",
      "RangeIndex: 8124 entries, 0 to 8123\n",
      "Data columns (total 22 columns):\n",
      " #   Column                    Non-Null Count  Dtype \n",
      "---  ------                    --------------  ----- \n",
      " 0   poisonous                 8124 non-null   object\n",
      " 1   cap-shape                 8124 non-null   object\n",
      " 2   cap-surface               8124 non-null   object\n",
      " 3   cap-color                 8124 non-null   object\n",
      " 4   bruises                   8124 non-null   object\n",
      " 5   odor                      8124 non-null   object\n",
      " 6   gill-attachment           8124 non-null   object\n",
      " 7   gill-spacing              8124 non-null   object\n",
      " 8   gill-size                 8124 non-null   object\n",
      " 9   gill-color                8124 non-null   object\n",
      " 10  stalk-shape               8124 non-null   object\n",
      " 11  stalk-surface-above-ring  8124 non-null   object\n",
      " 12  stalk-surface-below-ring  8124 non-null   object\n",
      " 13  stalk-color-above-ring    8124 non-null   object\n",
      " 14  stalk-color-below-ring    8124 non-null   object\n",
      " 15  veil-type                 8124 non-null   object\n",
      " 16  veil-color                8124 non-null   object\n",
      " 17  ring-number               8124 non-null   object\n",
      " 18  ring-type                 8124 non-null   object\n",
      " 19  spore-print-color         8124 non-null   object\n",
      " 20  population                8124 non-null   object\n",
      " 21  habitat                   8124 non-null   object\n",
      "dtypes: object(22)\n",
      "memory usage: 1.4+ MB\n"
     ]
    }
   ],
   "source": [
    "df = pd.read_csv('mushrooms-full-dataset.csv' , dtype=str)\n",
    "df.info()"
   ]
  },
  {
   "cell_type": "code",
   "execution_count": 121,
   "id": "3a6c8e20",
   "metadata": {},
   "outputs": [
    {
     "data": {
      "text/plain": [
       "e    4208\n",
       "p    3916\n",
       "Name: poisonous, dtype: int64"
      ]
     },
     "execution_count": 121,
     "metadata": {},
     "output_type": "execute_result"
    }
   ],
   "source": [
    "# make sure it is balanced\n",
    "df.poisonous.value_counts()"
   ]
  },
  {
   "cell_type": "code",
   "execution_count": null,
   "id": "b5be71e8",
   "metadata": {},
   "outputs": [],
   "source": []
  },
  {
   "cell_type": "markdown",
   "id": "9eb0fda3",
   "metadata": {},
   "source": [
    "\n",
    "## Preprocessing"
   ]
  },
  {
   "cell_type": "markdown",
   "id": "063eaa27",
   "metadata": {},
   "source": [
    "#### Define the target and the inputs"
   ]
  },
  {
   "cell_type": "code",
   "execution_count": 122,
   "id": "c53ed154",
   "metadata": {},
   "outputs": [],
   "source": [
    "target = df.poisonous\n",
    "data = df.drop(['poisonous'] , axis=1)"
   ]
  },
  {
   "cell_type": "markdown",
   "id": "1d2675a4",
   "metadata": {},
   "source": [
    "#### Create a training and a testing dataset"
   ]
  },
  {
   "cell_type": "raw",
   "id": "b57de751",
   "metadata": {},
   "source": []
  },
  {
   "cell_type": "code",
   "execution_count": 123,
   "id": "41e36272",
   "metadata": {},
   "outputs": [],
   "source": [
    "X_train , X_test , y_train , y_test = train_test_split(data , target , test_size=0.2 , random_state=365 , stratify=target)"
   ]
  },
  {
   "cell_type": "markdown",
   "id": "5870a294",
   "metadata": {
    "scrolled": true
   },
   "source": [
    "# Check the result from the stratification"
   ]
  },
  {
   "cell_type": "code",
   "execution_count": 124,
   "id": "f9b9d47c",
   "metadata": {},
   "outputs": [
    {
     "data": {
      "text/plain": [
       "e    3366\n",
       "p    3133\n",
       "Name: poisonous, dtype: int64"
      ]
     },
     "execution_count": 124,
     "metadata": {},
     "output_type": "execute_result"
    }
   ],
   "source": [
    "y_train.value_counts()"
   ]
  },
  {
   "cell_type": "code",
   "execution_count": 125,
   "id": "54a23823",
   "metadata": {},
   "outputs": [
    {
     "data": {
      "text/plain": [
       "e    842\n",
       "p    783\n",
       "Name: poisonous, dtype: int64"
      ]
     },
     "execution_count": 125,
     "metadata": {},
     "output_type": "execute_result"
    }
   ],
   "source": [
    "y_test.value_counts()"
   ]
  },
  {
   "cell_type": "markdown",
   "id": "7f59bb30",
   "metadata": {},
   "source": [
    "#### Define a separate encoder for the target and the inputs "
   ]
  },
  {
   "cell_type": "code",
   "execution_count": 126,
   "id": "9b1a9f63",
   "metadata": {},
   "outputs": [],
   "source": [
    "enc_ordinal = OrdinalEncoder()\n",
    "enc_label = LabelEncoder()"
   ]
  },
  {
   "cell_type": "markdown",
   "id": "43d8bea0",
   "metadata": {},
   "source": [
    "#### Apply the fit_transform() method on the training data and the transform() method on the test data."
   ]
  },
  {
   "cell_type": "code",
   "execution_count": 153,
   "id": "49116f5f",
   "metadata": {},
   "outputs": [],
   "source": [
    "X_train_trans = enc_ordinal.fit_transform(X_train)\n",
    "X_test_trans = enc_ordinal.transform(X_test)\n",
    "\n",
    "y_train_trans = enc_label.fit_transform(y_train)\n",
    "y_test_trans = enc_label.transform(y_test)"
   ]
  },
  {
   "cell_type": "code",
   "execution_count": 154,
   "id": "ad7ffbbc",
   "metadata": {},
   "outputs": [
    {
     "data": {
      "text/plain": [
       "array([[2., 3., 8., ..., 2., 4., 5.],\n",
       "       [3., 3., 2., ..., 7., 4., 2.],\n",
       "       [5., 0., 3., ..., 1., 5., 0.],\n",
       "       ...,\n",
       "       [2., 2., 2., ..., 7., 4., 2.],\n",
       "       [2., 3., 4., ..., 7., 4., 0.],\n",
       "       [2., 3., 5., ..., 7., 1., 6.]])"
      ]
     },
     "execution_count": 154,
     "metadata": {},
     "output_type": "execute_result"
    }
   ],
   "source": [
    "X_test_trans"
   ]
  },
  {
   "cell_type": "code",
   "execution_count": 155,
   "id": "2929f624",
   "metadata": {},
   "outputs": [
    {
     "data": {
      "text/plain": [
       "array([[2., 3., 8., ..., 2., 4., 5.],\n",
       "       [3., 3., 2., ..., 7., 4., 2.],\n",
       "       [5., 0., 3., ..., 1., 5., 0.],\n",
       "       ...,\n",
       "       [2., 2., 2., ..., 7., 4., 2.],\n",
       "       [2., 3., 4., ..., 7., 4., 0.],\n",
       "       [2., 3., 5., ..., 7., 1., 6.]])"
      ]
     },
     "execution_count": 155,
     "metadata": {},
     "output_type": "execute_result"
    }
   ],
   "source": [
    "X_test_trans"
   ]
  },
  {
   "cell_type": "markdown",
   "id": "4ed1f9cb",
   "metadata": {},
   "source": [
    "## Rescaling"
   ]
  },
  {
   "cell_type": "markdown",
   "id": "bd9b8cbe",
   "metadata": {},
   "source": [
    "### In order for the SVC to work correctly the inputs need to be rescaled to the range (-1, 1)"
   ]
  },
  {
   "cell_type": "code",
   "execution_count": 156,
   "id": "b6a38a59",
   "metadata": {},
   "outputs": [],
   "source": [
    "scaling2 = MinMaxScaler(feature_range=(-1,1)).fit(X_train_trans)\n",
    "\n",
    "X_train_rescaled_2 = scaling2.transform(X_train_trans)\n",
    "X_test_rescaled_2 = scaling2.transform(X_test_trans)"
   ]
  },
  {
   "cell_type": "markdown",
   "id": "cbd85654",
   "metadata": {},
   "source": [
    "## Classification"
   ]
  },
  {
   "cell_type": "code",
   "execution_count": 157,
   "id": "c27e082b",
   "metadata": {},
   "outputs": [],
   "source": [
    "C =1\n",
    "svc2 = svm.SVC(kernel = 'linear' , C=C).fit(X_train_rescaled_2 , y_train_trans)"
   ]
  },
  {
   "cell_type": "code",
   "execution_count": 158,
   "id": "2322acaf",
   "metadata": {},
   "outputs": [],
   "source": [
    "y_pred_test2 = svc2.predict(X_test_rescaled_2)"
   ]
  },
  {
   "cell_type": "code",
   "execution_count": 159,
   "id": "a6d03a86",
   "metadata": {},
   "outputs": [
    {
     "data": {
      "text/plain": [
       "(1625,)"
      ]
     },
     "execution_count": 159,
     "metadata": {},
     "output_type": "execute_result"
    }
   ],
   "source": [
    "y_pred_test2.shape"
   ]
  },
  {
   "cell_type": "code",
   "execution_count": 160,
   "id": "827c5418",
   "metadata": {},
   "outputs": [
    {
     "data": {
      "text/plain": [
       "(1625,)"
      ]
     },
     "execution_count": 160,
     "metadata": {},
     "output_type": "execute_result"
    }
   ],
   "source": [
    "y_test_trans.shape"
   ]
  },
  {
   "cell_type": "markdown",
   "id": "9ead3f68",
   "metadata": {},
   "source": [
    "## Evaluation"
   ]
  },
  {
   "cell_type": "markdown",
   "id": "c4ed814a",
   "metadata": {},
   "source": [
    "#### Evaluate the model on the test data"
   ]
  },
  {
   "cell_type": "code",
   "execution_count": 161,
   "id": "e599260b",
   "metadata": {},
   "outputs": [
    {
     "data": {
      "text/plain": [
       "<sklearn.metrics._plot.confusion_matrix.ConfusionMatrixDisplay at 0x289065760>"
      ]
     },
     "execution_count": 161,
     "metadata": {},
     "output_type": "execute_result"
    },
    {
     "data": {
      "image/png": "[encoded data removed]",
      "text/plain": [
       "<Figure size 1080x576 with 2 Axes>"
      ]
     },
     "metadata": {
      "needs_background": "light"
     },
     "output_type": "display_data"
    }
   ],
   "source": [
    "fig , axs = plt.subplots(figsize=(15,8))\n",
    "\n",
    "cmp = ConfusionMatrixDisplay(confusion_matrix(y_test_trans,y_pred_test2) , display_labels=[\"Edible\" , \"poisonus\"])\n",
    "cmp.plot(ax=axs)"
   ]
  },
  {
   "cell_type": "code",
   "execution_count": 163,
   "id": "9908cc61",
   "metadata": {},
   "outputs": [
    {
     "name": "stdout",
     "output_type": "stream",
     "text": [
      "              precision    recall  f1-score   support\n",
      "\n",
      "      Edible       0.94      0.97      0.96       842\n",
      "    poisonus       0.97      0.93      0.95       783\n",
      "\n",
      "    accuracy                           0.95      1625\n",
      "   macro avg       0.95      0.95      0.95      1625\n",
      "weighted avg       0.95      0.95      0.95      1625\n",
      "\n"
     ]
    }
   ],
   "source": [
    "print(classification_report(y_test_trans,y_pred_test2 , target_names=[\"Edible\" , \"poisonus\"]))"
   ]
  },
  {
   "cell_type": "code",
   "execution_count": null,
   "id": "a0483b6d",
   "metadata": {},
   "outputs": [],
   "source": []
  },
  {
   "cell_type": "markdown",
   "id": "fb042fe4",
   "metadata": {},
   "source": [
    "## Hyperparameter Tuning with GridSearchCV"
   ]
  },
  {
   "cell_type": "markdown",
   "id": "d0babc35",
   "metadata": {},
   "source": [
    "### Choose the best kernel and optimal C parameter based on Cross Validation of the training data"
   ]
  },
  {
   "cell_type": "code",
   "execution_count": 1,
   "id": "db78c3d9",
   "metadata": {},
   "outputs": [],
   "source": [
    "tunned_parameters = [\n",
    "    {\"kernel\" : [\"linear\"] , \"C\" :[1,12]},\n",
    "    {\"kernel\" : [\"poly\"] , \"C\":[1,12]},\n",
    "    {\"kernel\" : [\"rbf\"] , \"C\":[1,12] , \"gamma\" : [1e-3,1e-4]}\n",
    "]"
   ]
  },
  {
   "cell_type": "code",
   "execution_count": null,
   "id": "b75ed0f4",
   "metadata": {},
   "outputs": [],
   "source": []
  },
  {
   "cell_type": "code",
   "execution_count": null,
   "id": "6a020584",
   "metadata": {},
   "outputs": [],
   "source": []
  },
  {
   "cell_type": "code",
   "execution_count": null,
   "id": "7b080dd0",
   "metadata": {},
   "outputs": [],
   "source": []
  },
  {
   "cell_type": "code",
   "execution_count": null,
   "id": "1fbf4342",
   "metadata": {},
   "outputs": [],
   "source": []
  },
  {
   "cell_type": "code",
   "execution_count": null,
   "id": "1dd25748",
   "metadata": {},
   "outputs": [],
   "source": []
  }
 ],
 "metadata": {
  "kernelspec": {
   "display_name": "Python 3 (ipykernel)",
   "language": "python",
   "name": "python3"
  },
  "language_info": {
   "codemirror_mode": {
    "name": "ipython",
    "version": 3
   },
   "file_extension": ".py",
   "mimetype": "text/x-python",
   "name": "python",
   "nbconvert_exporter": "python",
   "pygments_lexer": "ipython3",
   "version": "3.9.15"
  }
 },
 "nbformat": 4,
 "nbformat_minor": 5
}
